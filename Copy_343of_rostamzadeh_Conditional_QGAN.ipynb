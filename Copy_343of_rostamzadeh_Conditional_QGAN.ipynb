{
  "cells": [
    {
      "cell_type": "markdown",
      "metadata": {
        "id": "view-in-github",
        "colab_type": "text"
      },
      "source": [
        "<a href=\"https://colab.research.google.com/github/halimehrostamzadeh/My-Python-Data-Science-ML-NLP-DL/blob/master/Copy_343of_rostamzadeh_Conditional_QGAN.ipynb\" target=\"_parent\"><img src=\"https://colab.research.google.com/assets/colab-badge.svg\" alt=\"Open In Colab\"/></a>"
      ]
    },
    {
      "cell_type": "code",
      "execution_count": null,
      "metadata": {
        "outputId": "ef8f4f03-651f-44b1-e812-6ab77c6f19d7",
        "colab": {
          "base_uri": "https://localhost:8080/"
        },
        "id": "7NZ148GLSAbi"
      },
      "outputs": [
        {
          "output_type": "stream",
          "name": "stdout",
          "text": [
            "Looking in indexes: https://pypi.org/simple, https://us-python.pkg.dev/colab-wheels/public/simple/\n",
            "Requirement already satisfied: numpy in /usr/local/lib/python3.9/dist-packages (1.22.4)\n"
          ]
        }
      ],
      "source": [
        "!pip install numpy\n",
        "\n"
      ]
    },
    {
      "cell_type": "code",
      "source": [
        "pip install matplotlib"
      ],
      "metadata": {
        "colab": {
          "base_uri": "https://localhost:8080/"
        },
        "id": "S0AehL1lSuBA",
        "outputId": "e1eadb07-b0ab-4624-8bc4-ce0064514bb8"
      },
      "execution_count": null,
      "outputs": [
        {
          "output_type": "stream",
          "name": "stdout",
          "text": [
            "Looking in indexes: https://pypi.org/simple, https://us-python.pkg.dev/colab-wheels/public/simple/\n",
            "Requirement already satisfied: matplotlib in /usr/local/lib/python3.9/dist-packages (3.5.3)\n",
            "Requirement already satisfied: pillow>=6.2.0 in /usr/local/lib/python3.9/dist-packages (from matplotlib) (8.4.0)\n",
            "Requirement already satisfied: numpy>=1.17 in /usr/local/lib/python3.9/dist-packages (from matplotlib) (1.22.4)\n",
            "Requirement already satisfied: cycler>=0.10 in /usr/local/lib/python3.9/dist-packages (from matplotlib) (0.11.0)\n",
            "Requirement already satisfied: python-dateutil>=2.7 in /usr/local/lib/python3.9/dist-packages (from matplotlib) (2.8.2)\n",
            "Requirement already satisfied: kiwisolver>=1.0.1 in /usr/local/lib/python3.9/dist-packages (from matplotlib) (1.4.4)\n",
            "Requirement already satisfied: pyparsing>=2.2.1 in /usr/local/lib/python3.9/dist-packages (from matplotlib) (3.0.9)\n",
            "Requirement already satisfied: fonttools>=4.22.0 in /usr/local/lib/python3.9/dist-packages (from matplotlib) (4.39.0)\n",
            "Requirement already satisfied: packaging>=20.0 in /usr/local/lib/python3.9/dist-packages (from matplotlib) (23.0)\n",
            "Requirement already satisfied: six>=1.5 in /usr/local/lib/python3.9/dist-packages (from python-dateutil>=2.7->matplotlib) (1.15.0)\n"
          ]
        }
      ]
    },
    {
      "cell_type": "code",
      "source": [],
      "metadata": {
        "id": "eZmao8JOT8gI"
      },
      "execution_count": null,
      "outputs": []
    },
    {
      "cell_type": "code",
      "source": [
        "pip install pennylane"
      ],
      "metadata": {
        "colab": {
          "base_uri": "https://localhost:8080/"
        },
        "id": "Ex9uJ36zS1CQ",
        "outputId": "83010143-7261-4903-e574-21f5918693d5"
      },
      "execution_count": null,
      "outputs": [
        {
          "output_type": "stream",
          "name": "stdout",
          "text": [
            "Looking in indexes: https://pypi.org/simple, https://us-python.pkg.dev/colab-wheels/public/simple/\n",
            "Requirement already satisfied: pennylane in /usr/local/lib/python3.9/dist-packages (0.29.1)\n",
            "Requirement already satisfied: autograd in /usr/local/lib/python3.9/dist-packages (from pennylane) (1.5)\n",
            "Requirement already satisfied: retworkx in /usr/local/lib/python3.9/dist-packages (from pennylane) (0.12.1)\n",
            "Requirement already satisfied: pennylane-lightning>=0.28 in /usr/local/lib/python3.9/dist-packages (from pennylane) (0.29.0)\n",
            "Requirement already satisfied: scipy in /usr/local/lib/python3.9/dist-packages (from pennylane) (1.10.1)\n",
            "Requirement already satisfied: numpy<1.24 in /usr/local/lib/python3.9/dist-packages (from pennylane) (1.22.4)\n",
            "Requirement already satisfied: autoray>=0.3.1 in /usr/local/lib/python3.9/dist-packages (from pennylane) (0.6.1)\n",
            "Requirement already satisfied: semantic-version>=2.7 in /usr/local/lib/python3.9/dist-packages (from pennylane) (2.10.0)\n",
            "Requirement already satisfied: toml in /usr/local/lib/python3.9/dist-packages (from pennylane) (0.10.2)\n",
            "Requirement already satisfied: networkx in /usr/local/lib/python3.9/dist-packages (from pennylane) (3.0)\n",
            "Requirement already satisfied: cachetools in /usr/local/lib/python3.9/dist-packages (from pennylane) (5.3.0)\n",
            "Requirement already satisfied: requests in /usr/local/lib/python3.9/dist-packages (from pennylane) (2.25.1)\n",
            "Requirement already satisfied: appdirs in /usr/local/lib/python3.9/dist-packages (from pennylane) (1.4.4)\n",
            "Requirement already satisfied: future>=0.15.2 in /usr/local/lib/python3.9/dist-packages (from autograd->pennylane) (0.16.0)\n",
            "Requirement already satisfied: urllib3<1.27,>=1.21.1 in /usr/local/lib/python3.9/dist-packages (from requests->pennylane) (1.26.14)\n",
            "Requirement already satisfied: chardet<5,>=3.0.2 in /usr/local/lib/python3.9/dist-packages (from requests->pennylane) (4.0.0)\n",
            "Requirement already satisfied: idna<3,>=2.5 in /usr/local/lib/python3.9/dist-packages (from requests->pennylane) (2.10)\n",
            "Requirement already satisfied: certifi>=2017.4.17 in /usr/local/lib/python3.9/dist-packages (from requests->pennylane) (2022.12.7)\n",
            "Requirement already satisfied: rustworkx==0.12.1 in /usr/local/lib/python3.9/dist-packages (from retworkx->pennylane) (0.12.1)\n"
          ]
        }
      ]
    },
    {
      "cell_type": "code",
      "source": [
        "pip install tensorflow"
      ],
      "metadata": {
        "colab": {
          "base_uri": "https://localhost:8080/"
        },
        "id": "hK7qZdUDS7Mb",
        "outputId": "dac123d3-5a05-4026-fd4a-1c74f0d3d24d"
      },
      "execution_count": null,
      "outputs": [
        {
          "output_type": "stream",
          "name": "stdout",
          "text": [
            "Looking in indexes: https://pypi.org/simple, https://us-python.pkg.dev/colab-wheels/public/simple/\n",
            "Requirement already satisfied: tensorflow in /usr/local/lib/python3.9/dist-packages (2.11.0)\n",
            "Requirement already satisfied: typing-extensions>=3.6.6 in /usr/local/lib/python3.9/dist-packages (from tensorflow) (4.5.0)\n",
            "Requirement already satisfied: tensorboard<2.12,>=2.11 in /usr/local/lib/python3.9/dist-packages (from tensorflow) (2.11.2)\n",
            "Requirement already satisfied: tensorflow-io-gcs-filesystem>=0.23.1 in /usr/local/lib/python3.9/dist-packages (from tensorflow) (0.31.0)\n",
            "Requirement already satisfied: termcolor>=1.1.0 in /usr/local/lib/python3.9/dist-packages (from tensorflow) (2.2.0)\n",
            "Requirement already satisfied: google-pasta>=0.1.1 in /usr/local/lib/python3.9/dist-packages (from tensorflow) (0.2.0)\n",
            "Requirement already satisfied: opt-einsum>=2.3.2 in /usr/local/lib/python3.9/dist-packages (from tensorflow) (3.3.0)\n",
            "Requirement already satisfied: libclang>=13.0.0 in /usr/local/lib/python3.9/dist-packages (from tensorflow) (15.0.6.1)\n",
            "Requirement already satisfied: packaging in /usr/local/lib/python3.9/dist-packages (from tensorflow) (23.0)\n",
            "Requirement already satisfied: setuptools in /usr/local/lib/python3.9/dist-packages (from tensorflow) (57.4.0)\n",
            "Requirement already satisfied: six>=1.12.0 in /usr/local/lib/python3.9/dist-packages (from tensorflow) (1.15.0)\n",
            "Requirement already satisfied: grpcio<2.0,>=1.24.3 in /usr/local/lib/python3.9/dist-packages (from tensorflow) (1.51.3)\n",
            "Requirement already satisfied: flatbuffers>=2.0 in /usr/local/lib/python3.9/dist-packages (from tensorflow) (23.3.3)\n",
            "Requirement already satisfied: keras<2.12,>=2.11.0 in /usr/local/lib/python3.9/dist-packages (from tensorflow) (2.11.0)\n",
            "Requirement already satisfied: h5py>=2.9.0 in /usr/local/lib/python3.9/dist-packages (from tensorflow) (3.1.0)\n",
            "Requirement already satisfied: protobuf<3.20,>=3.9.2 in /usr/local/lib/python3.9/dist-packages (from tensorflow) (3.19.6)\n",
            "Requirement already satisfied: tensorflow-estimator<2.12,>=2.11.0 in /usr/local/lib/python3.9/dist-packages (from tensorflow) (2.11.0)\n",
            "Requirement already satisfied: astunparse>=1.6.0 in /usr/local/lib/python3.9/dist-packages (from tensorflow) (1.6.3)\n",
            "Requirement already satisfied: wrapt>=1.11.0 in /usr/local/lib/python3.9/dist-packages (from tensorflow) (1.15.0)\n",
            "Requirement already satisfied: gast<=0.4.0,>=0.2.1 in /usr/local/lib/python3.9/dist-packages (from tensorflow) (0.4.0)\n",
            "Requirement already satisfied: absl-py>=1.0.0 in /usr/local/lib/python3.9/dist-packages (from tensorflow) (1.4.0)\n",
            "Requirement already satisfied: numpy>=1.20 in /usr/local/lib/python3.9/dist-packages (from tensorflow) (1.22.4)\n",
            "Requirement already satisfied: wheel<1.0,>=0.23.0 in /usr/local/lib/python3.9/dist-packages (from astunparse>=1.6.0->tensorflow) (0.38.4)\n",
            "Requirement already satisfied: werkzeug>=1.0.1 in /usr/local/lib/python3.9/dist-packages (from tensorboard<2.12,>=2.11->tensorflow) (2.2.3)\n",
            "Requirement already satisfied: google-auth<3,>=1.6.3 in /usr/local/lib/python3.9/dist-packages (from tensorboard<2.12,>=2.11->tensorflow) (2.16.2)\n",
            "Requirement already satisfied: tensorboard-plugin-wit>=1.6.0 in /usr/local/lib/python3.9/dist-packages (from tensorboard<2.12,>=2.11->tensorflow) (1.8.1)\n",
            "Requirement already satisfied: tensorboard-data-server<0.7.0,>=0.6.0 in /usr/local/lib/python3.9/dist-packages (from tensorboard<2.12,>=2.11->tensorflow) (0.6.1)\n",
            "Requirement already satisfied: google-auth-oauthlib<0.5,>=0.4.1 in /usr/local/lib/python3.9/dist-packages (from tensorboard<2.12,>=2.11->tensorflow) (0.4.6)\n",
            "Requirement already satisfied: requests<3,>=2.21.0 in /usr/local/lib/python3.9/dist-packages (from tensorboard<2.12,>=2.11->tensorflow) (2.25.1)\n",
            "Requirement already satisfied: markdown>=2.6.8 in /usr/local/lib/python3.9/dist-packages (from tensorboard<2.12,>=2.11->tensorflow) (3.4.1)\n",
            "Requirement already satisfied: pyasn1-modules>=0.2.1 in /usr/local/lib/python3.9/dist-packages (from google-auth<3,>=1.6.3->tensorboard<2.12,>=2.11->tensorflow) (0.2.8)\n",
            "Requirement already satisfied: cachetools<6.0,>=2.0.0 in /usr/local/lib/python3.9/dist-packages (from google-auth<3,>=1.6.3->tensorboard<2.12,>=2.11->tensorflow) (5.3.0)\n",
            "Requirement already satisfied: rsa<5,>=3.1.4 in /usr/local/lib/python3.9/dist-packages (from google-auth<3,>=1.6.3->tensorboard<2.12,>=2.11->tensorflow) (4.9)\n",
            "Requirement already satisfied: requests-oauthlib>=0.7.0 in /usr/local/lib/python3.9/dist-packages (from google-auth-oauthlib<0.5,>=0.4.1->tensorboard<2.12,>=2.11->tensorflow) (1.3.1)\n",
            "Requirement already satisfied: importlib-metadata>=4.4 in /usr/local/lib/python3.9/dist-packages (from markdown>=2.6.8->tensorboard<2.12,>=2.11->tensorflow) (6.0.0)\n",
            "Requirement already satisfied: chardet<5,>=3.0.2 in /usr/local/lib/python3.9/dist-packages (from requests<3,>=2.21.0->tensorboard<2.12,>=2.11->tensorflow) (4.0.0)\n",
            "Requirement already satisfied: idna<3,>=2.5 in /usr/local/lib/python3.9/dist-packages (from requests<3,>=2.21.0->tensorboard<2.12,>=2.11->tensorflow) (2.10)\n",
            "Requirement already satisfied: certifi>=2017.4.17 in /usr/local/lib/python3.9/dist-packages (from requests<3,>=2.21.0->tensorboard<2.12,>=2.11->tensorflow) (2022.12.7)\n",
            "Requirement already satisfied: urllib3<1.27,>=1.21.1 in /usr/local/lib/python3.9/dist-packages (from requests<3,>=2.21.0->tensorboard<2.12,>=2.11->tensorflow) (1.26.14)\n",
            "Requirement already satisfied: MarkupSafe>=2.1.1 in /usr/local/lib/python3.9/dist-packages (from werkzeug>=1.0.1->tensorboard<2.12,>=2.11->tensorflow) (2.1.2)\n",
            "Requirement already satisfied: zipp>=0.5 in /usr/local/lib/python3.9/dist-packages (from importlib-metadata>=4.4->markdown>=2.6.8->tensorboard<2.12,>=2.11->tensorflow) (3.15.0)\n",
            "Requirement already satisfied: pyasn1<0.5.0,>=0.4.6 in /usr/local/lib/python3.9/dist-packages (from pyasn1-modules>=0.2.1->google-auth<3,>=1.6.3->tensorboard<2.12,>=2.11->tensorflow) (0.4.8)\n",
            "Requirement already satisfied: oauthlib>=3.0.0 in /usr/local/lib/python3.9/dist-packages (from requests-oauthlib>=0.7.0->google-auth-oauthlib<0.5,>=0.4.1->tensorboard<2.12,>=2.11->tensorflow) (3.2.2)\n"
          ]
        }
      ]
    },
    {
      "cell_type": "markdown",
      "metadata": {
        "id": "5_Jet5Qk3vlf"
      },
      "source": [
        "<hr>"
      ]
    },
    {
      "cell_type": "code",
      "execution_count": null,
      "metadata": {
        "id": "yUIh5KnTSvt_"
      },
      "outputs": [],
      "source": [
        "import pennylane as qml\n",
        "import tensorflow as tf\n",
        "import numpy as np\n",
        "import matplotlib.pyplot as plt"
      ]
    },
    {
      "cell_type": "code",
      "execution_count": null,
      "metadata": {
        "id": "IEWib84pSvuC"
      },
      "outputs": [],
      "source": [
        "wires = range(15)\n",
        "n_layers = 3\n",
        "dev = qml.device('default.qubit', wires=wires)"
      ]
    },
    {
      "cell_type": "code",
      "source": [],
      "metadata": {
        "id": "Ui6ukqVZoi9o"
      },
      "execution_count": null,
      "outputs": []
    },
    {
      "cell_type": "code",
      "source": [
        "import numpy as np\n",
        "from keras.datasets.mnist import load_data\n",
        "from matplotlib import pyplot as plt\n",
        "\n",
        "(trainx,trainy), (testx,testy) = load_data()"
      ],
      "metadata": {
        "id": "6Ss4Qj7XdSH5"
      },
      "execution_count": null,
      "outputs": []
    },
    {
      "cell_type": "code",
      "source": [
        "for i in range(25):\n",
        "  plt.subplot(5,5,1+i)\n",
        "  plt.axis('off')\n",
        "  plt.imshow(trainx[i])\n",
        "plt.show() "
      ],
      "metadata": {
        "colab": {
          "base_uri": "https://localhost:8080/",
          "height": 248
        },
        "id": "eB29m_52d3Ea",
        "outputId": "63431faa-fa99-4257-ac87-fd6e028577ac"
      },
      "execution_count": null,
      "outputs": [
        {
          "output_type": "display_data",
          "data": {
            "text/plain": [
              "<Figure size 432x288 with 25 Axes>"
            ],
            "image/png": "[encoded data removed]"
          },
          "metadata": {
            "needs_background": "light"
          }
        }
      ]
    },
    {
      "cell_type": "code",
      "execution_count": null,
      "metadata": {
        "id": "2PWDzTGPSvuD"
      },
      "outputs": [],
      "source": [
        "dataset = np.load('/content/sample_data/dataset.npy', allow_pickle=True)\n",
        "\n",
        "dis_dataset = dataset[1]"
      ]
    },
    {
      "cell_type": "code",
      "execution_count": null,
      "metadata": {
        "id": "09FKQFWoSvuF"
      },
      "outputs": [],
      "source": [
        "@qml.qnode(dev, interface=\"tf\")\n",
        "def gen_circuit(b_seq, gen_weights):\n",
        "    # Embedding past time series onto circuit as conditional labels\n",
        "    qml.templates.AngleEmbedding(b_seq, wires, rotation='X')\n",
        "        \n",
        "    # Adjusting parameters of generator ansatz\n",
        "    qml.templates.StronglyEntanglingLayers(gen_weights, wires=wires)\n",
        "    \n",
        "    # Returning normalized percentage price predictions for next 4 days in dataset \n",
        "    return [qml.expval(qml.PauliZ(i)) for i in range(len(dis_dataset[0][1][1]))]"
      ]
    },
    {
      "cell_type": "code",
      "execution_count": null,
      "metadata": {
        "id": "dR7vaWY0SvuG"
      },
      "outputs": [],
      "source": [
        "init_gen_weights = tf.Variable(np.random.uniform(-np.pi, np.pi, (n_layers, len(wires), 3)))"
      ]
    },
    {
      "cell_type": "code",
      "execution_count": null,
      "metadata": {
        "colab": {
          "base_uri": "https://localhost:8080/"
        },
        "id": "zlQ2KL1FTtxA",
        "outputId": "a8f38bf5-d7e9-4361-b8ca-0933aa79fbfc"
      },
      "outputs": [
        {
          "output_type": "execute_result",
          "data": {
            "text/plain": [
              "<tf.Variable 'Variable:0' shape=(3, 15, 3) dtype=float64, numpy=\n",
              "array([[[-0.32663584,  2.99406877,  1.03140635],\n",
              "        [-0.57884628, -0.20882916, -2.26912914],\n",
              "        [ 1.73936823, -2.96314022, -2.72110248],\n",
              "        [ 2.9493478 , -2.8029631 ,  0.72561817],\n",
              "        [-2.72127517, -0.47824797,  1.48642575],\n",
              "        [-2.25516138, -0.45159489,  2.14503649],\n",
              "        [ 0.79516035,  0.21270173, -1.33432189],\n",
              "        [-2.61504424, -2.65510409, -2.34622957],\n",
              "        [ 1.0418461 ,  2.92812991, -1.19228361],\n",
              "        [ 0.95115631, -2.82856115,  1.65802419],\n",
              "        [-0.51044191, -2.00123977,  0.99417803],\n",
              "        [-2.98930184, -1.43194052,  2.24252485],\n",
              "        [-0.67610714, -1.51091962, -1.90245724],\n",
              "        [-1.99517193, -1.55178808, -1.07684532],\n",
              "        [ 0.60488034,  1.47564959, -2.17845018]],\n",
              "\n",
              "       [[-0.46375156, -0.1645755 ,  2.98931751],\n",
              "        [ 1.47821116,  2.00842522, -1.12546734],\n",
              "        [ 0.18105142,  3.0463819 ,  2.08080837],\n",
              "        [-2.21300232,  1.46420922, -2.01623923],\n",
              "        [-2.98728277,  3.124491  , -0.02437901],\n",
              "        [ 2.48162585,  2.19637716, -2.09222204],\n",
              "        [ 0.82501349,  2.39104094,  2.46260394],\n",
              "        [-1.69617946,  2.11650088,  0.70561979],\n",
              "        [ 0.83897891, -1.54478933, -2.76895365],\n",
              "        [ 2.3866486 ,  2.75031324,  0.5861447 ],\n",
              "        [-2.74985903, -2.86697742, -2.74866118],\n",
              "        [ 0.90749868, -1.00291269,  0.64295272],\n",
              "        [ 1.92935363,  1.87798345, -2.56695368],\n",
              "        [-1.64638434, -0.72206986,  2.42204388],\n",
              "        [ 0.86898594, -2.68440931, -1.61464155]],\n",
              "\n",
              "       [[-2.8521184 ,  1.77901183,  0.24602818],\n",
              "        [-0.55920042,  3.11427118,  1.65740945],\n",
              "        [-2.5539586 ,  0.38067057, -0.3536753 ],\n",
              "        [ 2.22874813,  1.96753859,  0.26448059],\n",
              "        [-0.14244543,  1.6249524 , -1.45323304],\n",
              "        [ 2.13355345, -0.45428642, -1.84383022],\n",
              "        [-0.1722122 , -0.88871755,  0.92921571],\n",
              "        [ 0.08665486, -0.30774693, -0.14916635],\n",
              "        [ 0.41189243,  2.78887264, -3.07725993],\n",
              "        [ 1.4099994 , -2.99013179, -1.1384873 ],\n",
              "        [-2.20132915,  1.44558191, -1.69283806],\n",
              "        [-3.0289079 ,  2.43855699,  0.53657387],\n",
              "        [-1.1140988 ,  0.80662412, -0.67229461],\n",
              "        [ 1.19411623, -1.96852491, -1.51739803],\n",
              "        [-0.86487571,  1.69509075,  2.8219941 ]]])>"
            ]
          },
          "metadata": {},
          "execution_count": 172
        }
      ],
      "source": [
        "init_gen_weights"
      ]
    },
    {
      "cell_type": "code",
      "execution_count": null,
      "metadata": {
        "colab": {
          "base_uri": "https://localhost:8080/"
        },
        "id": "u4VxSH5jTr6e",
        "outputId": "f700e889-b0a0-4327-b298-82fe95dbca32"
      },
      "outputs": [
        {
          "output_type": "execute_result",
          "data": {
            "text/plain": [
              "<tf.Tensor: shape=(4,), dtype=float64, numpy=array([ 0.00032364,  0.00142431, -0.00084898, -0.00988141])>"
            ]
          },
          "metadata": {},
          "execution_count": 173
        }
      ],
      "source": [
        "# Testing generator circuit QNode\n",
        "gen_circuit(dis_dataset[0][1][0], init_gen_weights)"
      ]
    },
    {
      "cell_type": "code",
      "execution_count": null,
      "metadata": {
        "id": "R8XPDksNSvuJ"
      },
      "outputs": [],
      "source": [
        "def make_discrim():\n",
        "    model = tf.keras.models.Sequential()\n",
        "    model.add(tf.keras.layers.Conv1D(filters=16, kernel_size=1, input_shape=[1, 19]))\n",
        "    model.add(tf.keras.layers.LeakyReLU(alpha=0.2))\n",
        "    \n",
        "    model.add(tf.keras.layers.Conv1D(filters=16, kernel_size=1))\n",
        "    model.add(tf.keras.layers.LeakyReLU(alpha=0.2))\n",
        "    \n",
        "    model.add(tf.keras.layers.Dropout(.3))\n",
        "    model.add(tf.keras.layers.Dense(units=128, activation='relu'))\n",
        "    model.add(tf.keras.layers.Dense(units=1, activation='sigmoid'))\n",
        "    \n",
        "    return model"
      ]
    },
    {
      "cell_type": "code",
      "execution_count": null,
      "metadata": {
        "colab": {
          "base_uri": "https://localhost:8080/"
        },
        "id": "a8n-2ExLSvuJ",
        "outputId": "d66ac79d-02ab-41ad-ea5b-1de1a88dbe45",
        "scrolled": true
      },
      "outputs": [
        {
          "output_type": "stream",
          "name": "stdout",
          "text": [
            "Model: \"sequential_6\"\n",
            "_________________________________________________________________\n",
            " Layer (type)                Output Shape              Param #   \n",
            "=================================================================\n",
            " conv1d_12 (Conv1D)          (None, 1, 16)             320       \n",
            "                                                                 \n",
            " leaky_re_lu_12 (LeakyReLU)  (None, 1, 16)             0         \n",
            "                                                                 \n",
            " conv1d_13 (Conv1D)          (None, 1, 16)             272       \n",
            "                                                                 \n",
            " leaky_re_lu_13 (LeakyReLU)  (None, 1, 16)             0         \n",
            "                                                                 \n",
            " dropout_6 (Dropout)         (None, 1, 16)             0         \n",
            "                                                                 \n",
            " dense_12 (Dense)            (None, 1, 128)            2176      \n",
            "                                                                 \n",
            " dense_13 (Dense)            (None, 1, 1)              129       \n",
            "                                                                 \n",
            "=================================================================\n",
            "Total params: 2,897\n",
            "Trainable params: 2,897\n",
            "Non-trainable params: 0\n",
            "_________________________________________________________________\n"
          ]
        }
      ],
      "source": [
        "discriminator = make_discrim()\n",
        "discriminator.summary()"
      ]
    },
    {
      "cell_type": "code",
      "execution_count": null,
      "metadata": {
        "id": "nICWzgAOSvuK"
      },
      "outputs": [],
      "source": [
        "cross_entropy = tf.keras.losses.BinaryCrossentropy()\n",
        "\n",
        "def generator_loss(fake_output):\n",
        "    \"\"\"Calculating loss\"\"\"\n",
        "    return cross_entropy(np.ones_like(fake_output), fake_output)"
      ]
    },
    {
      "cell_type": "code",
      "execution_count": null,
      "metadata": {
        "id": "PrCV9nAMSvuL"
      },
      "outputs": [],
      "source": [
        "def discriminator_loss(fake_output, real_output):    \n",
        "    \"\"\"Compute discriminator loss.\"\"\" \n",
        "    real_loss = cross_entropy(tf.ones_like(real_output), real_output)\n",
        "    fake_loss = cross_entropy(tf.zeros_like(fake_output), fake_output)\n",
        "    total_loss = real_loss + fake_loss\n",
        "    return total_loss"
      ]
    },
    {
      "cell_type": "code",
      "execution_count": null,
      "metadata": {
        "id": "8Ov3igXwTr6o"
      },
      "outputs": [],
      "source": [
        "def accuracy(real_data, fake_data):\n",
        "    m = tf.keras.metrics.MeanAbsoluteError()\n",
        "    m.update_state(real_data, fake_data)\n",
        "    acc = 1 - m.result().numpy()\n",
        "    return acc"
      ]
    },
    {
      "cell_type": "code",
      "execution_count": null,
      "metadata": {
        "id": "yD2pNAF7SvuL",
        "colab": {
          "base_uri": "https://localhost:8080/"
        },
        "outputId": "0829daa9-215f-43a4-9e9a-6967b52f34b2"
      },
      "outputs": [
        {
          "output_type": "stream",
          "name": "stderr",
          "text": [
            "WARNING:absl:`lr` is deprecated, please use `learning_rate` instead, or use the legacy optimizer, e.g.,tf.keras.optimizers.legacy.Adam.\n",
            "WARNING:absl:`lr` is deprecated, please use `learning_rate` instead, or use the legacy optimizer, e.g.,tf.keras.optimizers.legacy.Adam.\n"
          ]
        }
      ],
      "source": [
        "generator_optimizer = tf.keras.optimizers.Adam(lr=0.0001)\n",
        "discriminator_optimizer = tf.keras.optimizers.Adam(lr=0.0001)"
      ]
    },
    {
      "cell_type": "code",
      "execution_count": null,
      "metadata": {
        "id": "tYUv2VaJSvuL"
      },
      "outputs": [],
      "source": [
        "def train_step(equity_data, gen_weights):\n",
        "    \"\"\"Run train step on provided image batch.\"\"\"\n",
        "    with tf.GradientTape() as disc_tape, tf.GradientTape() as gen_tape: \n",
        "        generated_prices = tf.concat([equity_data[0], gen_circuit(equity_data[0], gen_weights)], 0)\n",
        "        generated_prices = tf.reshape(generated_prices, (1,1,(len(equity_data[0]) + len(equity_data[1]))))\n",
        "\n",
        "        real_prices = tf.concat([equity_data[0], equity_data[1]], 0)\n",
        "        real_prices = tf.reshape(real_prices, (1,1,(len(equity_data[0]) + len(equity_data[1]))))\n",
        "        \n",
        "        \"\"\"Getting outputs from discrim\"\"\"\n",
        "        real_output = discriminator(real_prices)\n",
        "        fake_output = discriminator(generated_prices)\n",
        "        \n",
        "        \"\"\"Calculating loss\"\"\"\n",
        "        gen_loss = generator_loss(fake_output)\n",
        "        disc_loss = discriminator_loss(fake_output, real_output)\n",
        "    \n",
        "    gradients_of_generator = gen_tape.gradient(gen_loss, gen_weights)\n",
        "    gradients_of_discriminator = disc_tape.gradient(disc_loss, discriminator.trainable_variables)\n",
        "\n",
        "    generator_optimizer.apply_gradients(\n",
        "        zip([gradients_of_generator], [gen_weights]))\n",
        "    discriminator_optimizer.apply_gradients(\n",
        "        zip(gradients_of_discriminator, discriminator.trainable_variables))\n",
        "    \n",
        "    \"\"\"Accuracy\"\"\"\n",
        "    acc = accuracy(equity_data[1], gen_circuit(equity_data[0], gen_weights))\n",
        "    \n",
        "    return gen_loss, disc_loss, gen_weights, acc"
      ]
    },
    {
      "cell_type": "code",
      "execution_count": null,
      "metadata": {
        "id": "Wul7KDWPTr6s"
      },
      "outputs": [],
      "source": [
        "gloss = []\n",
        "dloss = []\n",
        "acc_results = []\n",
        "epoch_acc_results = []\n"
      ]
    },
    {
      "cell_type": "code",
      "source": [],
      "metadata": {
        "id": "UZyhmx6jur3I"
      },
      "execution_count": null,
      "outputs": []
    },
    {
      "cell_type": "code",
      "execution_count": null,
      "metadata": {
        "id": "fp7cBqT2SvuM"
      },
      "outputs": [],
      "source": [
        "EPOCHS = 50\n",
        "batch_size = 1\n",
        "\n",
        "def train(dataset, epochs, start_epoch=1, new_gen_w=None):    \n",
        "    for epoch in range(start_epoch, start_epoch + epochs):\n",
        "        if epoch == 1:\n",
        "            new_gen_w = tf.Variable(np.ones_like(init_gen_weights.numpy()), dtype=\"float64\")\n",
        "            new_gen_w.assign(init_gen_weights)\n",
        "        \n",
        "        for i, sample in enumerate(dataset[0:batch_size]):\n",
        "            sample_b = sample[0]\n",
        "            sample_f = sample[1]\n",
        "            gl, dl, w, acc = train_step(dataset[i], new_gen_w)\n",
        "            \n",
        "            new_gen_w.assign(w)\n",
        "            acc_results.append(acc)\n",
        "            gloss.append(gl)\n",
        "            dloss.append(dl)\n",
        "        \n",
        "            if epoch % 10 == 0:\n",
        "                print(f\"Step {i} in {epoch} epoch: Gen loss: {gl} \\n         Disc loss: {dl} \\n             Accuracy: {acc}\")\n",
        "        \n",
        "        epoch_acc = 0\n",
        "        for i, sample in enumerate(dataset[0:batch_size]):\n",
        "            epoch_acc += accuracy(sample[1], gen_circuit(sample[0], new_gen_w))\n",
        "        epoch_acc = epoch_acc / len(dataset[0:batch_size])\n",
        "        epoch_acc_results.append(epoch_acc)\n",
        "\n",
        "    return new_gen_w\n",
        "    "
      ]
    },
    {
      "cell_type": "code",
      "execution_count": null,
      "metadata": {
        "collapsed": true,
        "jupyter": {
          "outputs_hidden": true
        },
        "colab": {
          "base_uri": "https://localhost:8080/"
        },
        "id": "L8EiB3fUTr6t",
        "outputId": "233c683e-08d7-4c41-febb-b04a881ea8b9"
      },
      "outputs": [
        {
          "output_type": "stream",
          "name": "stdout",
          "text": [
            "Step 0 in 10 epoch: Gen loss: 0.7264817357063293 \n",
            "         Disc loss: 1.3195114135742188 \n",
            "             Accuracy: 0.8107469975948334\n",
            "Step 0 in 20 epoch: Gen loss: 0.7589430809020996 \n",
            "         Disc loss: 1.250931739807129 \n",
            "             Accuracy: 0.8123062252998352\n",
            "Step 0 in 30 epoch: Gen loss: 0.8143578171730042 \n",
            "         Disc loss: 1.1775627136230469 \n",
            "             Accuracy: 0.812230259180069\n",
            "Step 0 in 40 epoch: Gen loss: 0.8681988716125488 \n",
            "         Disc loss: 1.0785236358642578 \n",
            "             Accuracy: 0.8110873699188232\n",
            "Step 0 in 50 epoch: Gen loss: 1.012056827545166 \n",
            "         Disc loss: 0.9119985103607178 \n",
            "             Accuracy: 0.8100327849388123\n"
          ]
        }
      ],
      "source": [
        "new_gen_w = train(dis_dataset[0], EPOCHS, start_epoch=1) "
      ]
    },
    {
      "cell_type": "code",
      "execution_count": null,
      "metadata": {
        "colab": {
          "base_uri": "https://localhost:8080/",
          "height": 295
        },
        "id": "eM2WQTNFTr6t",
        "outputId": "2e1d1c27-68a2-42fd-a82f-51feb8c3e212"
      },
      "outputs": [
        {
          "output_type": "display_data",
          "data": {
            "text/plain": [
              "<Figure size 432x288 with 1 Axes>"
            ],
            "image/png": "[encoded data removed]"
          },
          "metadata": {
            "needs_background": "light"
          }
        }
      ],
      "source": [
        "plt.plot(range(len(epoch_acc_results)), epoch_acc_results)\n",
        "plt.title(\"Training Accuracy\")\n",
        "plt.xlabel(\"Epoch\")\n",
        "plt.show()"
      ]
    },
    {
      "cell_type": "code",
      "execution_count": null,
      "metadata": {
        "colab": {
          "base_uri": "https://localhost:8080/",
          "height": 350
        },
        "id": "V101-kPeTr6u",
        "outputId": "96c581b0-c764-4dd1-bfd9-21af1b2d5271"
      },
      "outputs": [
        {
          "output_type": "display_data",
          "data": {
            "text/plain": [
              "<Figure size 720x360 with 1 Axes>"
            ],
            "image/png": "[encoded data removed]"
          },
          "metadata": {
            "needs_background": "light"
          }
        }
      ],
      "source": [
        "plt.figure(figsize=(10, 5))\n",
        "plt.plot(range(len(acc_results)), acc_results)\n",
        "plt.title(\"Batch wise accuracy\")\n",
        "plt.xlabel(f\"Batch number (take % {batch_size})\")\n",
        "plt.show()"
      ]
    },
    {
      "cell_type": "code",
      "execution_count": null,
      "metadata": {
        "colab": {
          "base_uri": "https://localhost:8080/",
          "height": 350
        },
        "id": "mybkmR5RTr6v",
        "outputId": "5f6d32e5-4e18-4cb4-8210-c03f693397a7"
      },
      "outputs": [
        {
          "output_type": "display_data",
          "data": {
            "text/plain": [
              "<Figure size 720x360 with 1 Axes>"
            ],
            "image/png": "[encoded data removed]"
          },
          "metadata": {
            "needs_background": "light"
          }
        }
      ],
      "source": [
        "plt.figure(figsize=(10, 5))\n",
        "plt.plot(range(len(gloss)), gloss, label=\"Generator loss\")\n",
        "plt.plot(range(len(dloss)), dloss, label=\"Discriminator loss\")\n",
        "plt.title(\"Loss\")\n",
        "plt.xlabel(\"Epoch\")\n",
        "plt.legend()\n",
        "plt.show()"
      ]
    },
    {
      "cell_type": "code",
      "source": [],
      "metadata": {
        "id": "RiPFKZqZrg0h"
      },
      "execution_count": null,
      "outputs": []
    },
    {
      "cell_type": "code",
      "source": [],
      "metadata": {
        "id": "N2K_W7hA2PCb"
      },
      "execution_count": null,
      "outputs": []
    },
    {
      "cell_type": "code",
      "source": [],
      "metadata": {
        "id": "caHopHWzyAPj"
      },
      "execution_count": null,
      "outputs": []
    },
    {
      "cell_type": "markdown",
      "metadata": {
        "id": "erU1wShjTr60"
      },
      "source": [
        "![](./images/qgan_ex_1.png)\n",
        "![](./images/qgan_ex_2.png)\n",
        "![](./images/qgan_ex_3.png)\n",
        "![](./images/qgan_ex_4.png)\n",
        "![](./images/qgan_ex_5.png)"
      ]
    },
    {
      "cell_type": "markdown",
      "metadata": {
        "id": "NpUWg2qeTr61"
      },
      "source": [
        "<hr>"
      ]
    }
  ],
  "metadata": {
    "colab": {
      "provenance": [],
      "include_colab_link": true
    },
    "instance_type": "ml.m5.4xlarge",
    "kernelspec": {
      "display_name": "Python 3 (TensorFlow 2.3 Python 3.7 CPU Optimized)",
      "language": "python",
      "name": "python3__SAGEMAKER_INTERNAL__arn:aws:sagemaker:us-east-2:429704687514:image/tensorflow-2.3-cpu-py37-ubuntu18.04-v1"
    },
    "language_info": {
      "codemirror_mode": {
        "name": "ipython",
        "version": 3
      },
      "file_extension": ".py",
      "mimetype": "text/x-python",
      "name": "python",
      "nbconvert_exporter": "python",
      "pygments_lexer": "ipython3",
      "version": "3.7.10"
    }
  },
  "nbformat": 4,
  "nbformat_minor": 0
}